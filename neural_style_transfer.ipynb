{
  "nbformat": 4,
  "nbformat_minor": 0,
  "metadata": {
    "colab": {
      "name": "neural_style_transfer.ipynb",
      "provenance": []
    },
    "kernelspec": {
      "name": "python3",
      "display_name": "Python 3"
    },
    "accelerator": "GPU"
  },
  "cells": [
    {
      "cell_type": "markdown",
      "metadata": {
        "id": "VwtjKVp6Z5D9"
      },
      "source": [
        "### Import Libraries\n",
        "\n",
        "\n"
      ]
    },
    {
      "cell_type": "code",
      "metadata": {
        "id": "Giue5Y5MpipA"
      },
      "source": [
        "import torchvision.models as models\n",
        "from torchvision import transforms\n",
        "import torch\n",
        "import torch.nn as nn\n",
        "from PIL import Image\n",
        "from torchsummary import summary\n",
        "import numpy as np\n",
        "import matplotlib.pyplot as plt\n",
        "import torch.optim as optim"
      ],
      "execution_count": 26,
      "outputs": []
    },
    {
      "cell_type": "code",
      "metadata": {
        "id": "U94q1ZDj7piD"
      },
      "source": [
        "IMG_HT = 256\n",
        "IMG_WT = 256\n",
        "\n",
        "device = torch.device(\"cuda:0\" if torch.cuda.is_available() else \"cpu\")\n"
      ],
      "execution_count": 27,
      "outputs": []
    },
    {
      "cell_type": "markdown",
      "metadata": {
        "id": "Q5dGzOvXaDXI"
      },
      "source": [
        "### Import Model vgg16 feature extractor"
      ]
    },
    {
      "cell_type": "code",
      "metadata": {
        "id": "YN9MI3XAq5iJ"
      },
      "source": [
        "vgg16 =  models.vgg16(pretrained=True).to(device)\n",
        "vgg_features = vgg16.features\n",
        "\n",
        "for params in vgg_features.parameters():\n",
        "    params.requires_grad = False\n",
        "\n"
      ],
      "execution_count": 28,
      "outputs": []
    },
    {
      "cell_type": "markdown",
      "metadata": {
        "id": "P5T2BCdaaaEY"
      },
      "source": [
        "### Load Style and content images"
      ]
    },
    {
      "cell_type": "code",
      "metadata": {
        "id": "rpgacZJPrAy7"
      },
      "source": [
        "transform = transforms.Compose([\n",
        "        transforms.Resize((IMG_HT, IMG_WT)), \n",
        "        transforms.ToTensor()\n",
        "])"
      ],
      "execution_count": 29,
      "outputs": []
    },
    {
      "cell_type": "code",
      "metadata": {
        "id": "RGOKWnVk1grw"
      },
      "source": [
        "style_image = transform(Image.open('wave.jpg'))\n",
        "content_image = transform(Image.open('chicago.jpg'))"
      ],
      "execution_count": 30,
      "outputs": []
    },
    {
      "cell_type": "code",
      "metadata": {
        "id": "8lqje7eu1pfJ"
      },
      "source": [
        "fig, ax = plt.subplots (1,2)\n",
        "ax[0].imshow(style_image.permute(1,2,0))\n",
        "ax[1].imshow(content_image.permute(1,2,0))\n",
        "ax[0].axis('off')\n",
        "ax[1].axis('off')"
      ],
      "execution_count": null,
      "outputs": []
    },
    {
      "cell_type": "code",
      "metadata": {
        "id": "dBtWf5ttf6B5"
      },
      "source": [
        "style_image = torch.stack([style_image]).to(device)\n",
        "content_image = torch.stack([content_image]).to(device)"
      ],
      "execution_count": 32,
      "outputs": []
    },
    {
      "cell_type": "markdown",
      "metadata": {
        "id": "khYhEl3Iaent"
      },
      "source": [
        "### Apply hook for storing activations"
      ]
    },
    {
      "cell_type": "code",
      "metadata": {
        "id": "A4Yy0Pno-vAY"
      },
      "source": [
        "activation_store = []\n",
        "\n",
        "def store_activations(store_list):\n",
        "    def hook(model, input, output):\n",
        "        store_list.append(output)\n",
        "    return hook\n",
        "\n",
        "for layer in vgg_features:\n",
        "    # global activation_store \n",
        "    if isinstance(layer, nn.Conv2d):\n",
        "        layer.register_forward_hook(store_activations(activation_store))\n",
        "\n",
        "\n",
        "content_out = vgg_features(content_image)\n",
        "style_out = vgg_features(style_image)"
      ],
      "execution_count": 33,
      "outputs": []
    },
    {
      "cell_type": "code",
      "metadata": {
        "id": "HId3Q79z97XU",
        "outputId": "611a4388-0a52-4876-fbe0-47e12b0289b5",
        "colab": {
          "base_uri": "https://localhost:8080/",
          "height": 34
        }
      },
      "source": [
        "print(len(activation_store))\n",
        "content_store = activation_store[:13]\n",
        "style_store = activation_store[13:]"
      ],
      "execution_count": 34,
      "outputs": [
        {
          "output_type": "stream",
          "text": [
            "26\n"
          ],
          "name": "stdout"
        }
      ]
    },
    {
      "cell_type": "markdown",
      "metadata": {
        "id": "FJNA3qSGaips"
      },
      "source": [
        "#### Content Loss"
      ]
    },
    {
      "cell_type": "code",
      "metadata": {
        "id": "WliAB0Jpg54Z"
      },
      "source": [
        "def get_content_loss(generation_img, num_layer, activation_store):\n",
        "\n",
        "    content_act = content_store[num_layer]\n",
        "\n",
        "    activation_store.clear()\n",
        "    generated_out = vgg_features(generation_img)\n",
        "    generated_act = activation_store[num_layer]\n",
        "    \n",
        "    return nn.MSELoss()(generated_act, content_act)\n"
      ],
      "execution_count": 35,
      "outputs": []
    },
    {
      "cell_type": "code",
      "metadata": {
        "id": "egIyXiOg4O-X"
      },
      "source": [
        "for num_layer in range(1,10):\n",
        "    generation = torch.abs(torch.randn(1,3,IMG_HT,IMG_WT).to(device))\n",
        "    generation.requires_grad = True\n",
        "    optimizer = optim.Adam([generation], lr=0.1)\n",
        "    for epoch in range(500):\n",
        "        generation.data.clamp_(0,1)\n",
        "        content_loss = get_content_loss(generation, num_layer, activation_store)\n",
        "\n",
        "        optimizer.zero_grad()\n",
        "        content_loss.backward()\n",
        "        optimizer.step()\n",
        "    plt.imshow(generation[0].clone().detach().to('cpu').permute(1,2,0)) \n",
        "    plt.show()\n"
      ],
      "execution_count": null,
      "outputs": []
    },
    {
      "cell_type": "markdown",
      "metadata": {
        "id": "3ZC3nDoyas_I"
      },
      "source": [
        "#### Style Loss"
      ]
    },
    {
      "cell_type": "code",
      "metadata": {
        "id": "7t6Trjvx6mT1"
      },
      "source": [
        "def get_gram_matrix(feature_matrix):\n",
        "    b,c,w,h = feature_matrix.shape\n",
        "\n",
        "    reshaped_feature = feature_matrix.view(b*c,w*h)\n",
        "    return (torch.mm(reshaped_feature, reshaped_feature.T))/(b*c*w*h)\n",
        "\n",
        "\n",
        "def get_style_loss(generation_image, num_layers, activation_store):\n",
        "    loss = 0\n",
        "    activation_store.clear()\n",
        "    generated_out = vgg_features(generation_image)\n",
        "    \n",
        "    for layer in range(1,num_layers):\n",
        "        style_act = style_store[layer]\n",
        "        generated_act = activation_store[layer]\n",
        "        \n",
        "        gen_gram = get_gram_matrix(generated_act)\n",
        "        style_gram = get_gram_matrix(style_act)\n",
        "\n",
        "        loss += nn.MSELoss()(gen_gram, style_gram)   \n",
        "    return loss/(num_layers-1)"
      ],
      "execution_count": 38,
      "outputs": []
    },
    {
      "cell_type": "code",
      "metadata": {
        "id": "qBbPeZrE2OoL"
      },
      "source": [
        "for num_layer in range(2,10):\n",
        "    generation = torch.abs(torch.randn(1,3,IMG_HT,IMG_WT).to(device))\n",
        "    generation.requires_grad = True\n",
        "    optimizer = optim.Adam([generation], lr=0.1)\n",
        "    for epoch in range(500):\n",
        "        generation.data.clamp_(0,1)\n",
        "        style_loss = get_style_loss(generation, num_layer, activation_store)\n",
        "\n",
        "        optimizer.zero_grad()\n",
        "        style_loss.backward()\n",
        "        optimizer.step()\n",
        "    \n",
        "       \n",
        "    plt.imshow(generation[0].clone().detach().to('cpu').permute(1,2,0)) \n",
        "    plt.show()  "
      ],
      "execution_count": null,
      "outputs": []
    },
    {
      "cell_type": "markdown",
      "metadata": {
        "id": "xgmrkto7a5DU"
      },
      "source": [
        "#### Style Transfer"
      ]
    },
    {
      "cell_type": "code",
      "metadata": {
        "id": "3dCD9eBJL2gU"
      },
      "source": [
        "generation = torch.abs(torch.randn(1,3,IMG_HT,IMG_WT).to(device))\n",
        "generation.requires_grad = True\n",
        "optimizer = optim.Adam([generation], lr=0.1)\n",
        "\n",
        "for epoch in range(10000):\n",
        "    generation.data.clamp_(0,1)\n",
        "    style_loss = get_style_loss(generation, 7, activation_store)\n",
        "    content_loss = get_content_loss(generation, 1, activation_store)\n",
        "\n",
        "    loss = 100000*style_loss + content_loss\n",
        "\n",
        "\n",
        "    optimizer.zero_grad()\n",
        "    loss.backward()\n",
        "    optimizer.step()\n",
        "\n",
        "    if (epoch%200 == 0):\n",
        "        plt.imshow(generation[0].clone().detach().to('cpu').permute(1,2,0)) \n",
        "        plt.show() \n"
      ],
      "execution_count": null,
      "outputs": []
    }
  ]
}